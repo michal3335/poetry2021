{
 "cells": [
  {
   "cell_type": "markdown",
   "metadata": {},
   "source": [
    "# check tokenizers"
   ]
  },
  {
   "cell_type": "code",
   "execution_count": 1,
   "metadata": {},
   "outputs": [],
   "source": [
    "import sys\n",
    "sys.path.append(\"/workspace\")"
   ]
  },
  {
   "cell_type": "code",
   "execution_count": 3,
   "metadata": {},
   "outputs": [],
   "source": [
    "from pathlib import Path\n",
    "import os\n",
    "from preprocessing.text_tokenizer import TextTokenizer\n",
    "from tokenizers import Tokenizer\n",
    "from tokenizers.models import WordLevel\n",
    "from tokenizers.pre_tokenizers import CharDelimiterSplit\n",
    "from tokenizers.processors import BertProcessing\n",
    "# https://github.com/huggingface/transformers/issues/7234#issuecomment-720092292\n",
    "from transformers import PreTrainedTokenizerFast\n",
    "from transformers import RobertaTokenizerFast"
   ]
  },
  {
   "cell_type": "code",
   "execution_count": 5,
   "metadata": {},
   "outputs": [],
   "source": [
    "dataset_path = Path('/workspace/notebooks/data')"
   ]
  },
  {
   "cell_type": "markdown",
   "metadata": {},
   "source": [
    "## roberta-base "
   ]
  },
  {
   "cell_type": "code",
   "execution_count": 9,
   "metadata": {},
   "outputs": [
    {
     "data": {
      "text/plain": [
       "('/workspace/notebooks/data/roberta-base/tokenizer_config.json',\n",
       " '/workspace/notebooks/data/roberta-base/special_tokens_map.json',\n",
       " '/workspace/notebooks/data/roberta-base/vocab.json',\n",
       " '/workspace/notebooks/data/roberta-base/merges.txt',\n",
       " '/workspace/notebooks/data/roberta-base/added_tokens.json')"
      ]
     },
     "execution_count": 9,
     "metadata": {},
     "output_type": "execute_result"
    }
   ],
   "source": [
    "# os.chdir(dataset_path)\n",
    "tokenizer = RobertaTokenizerFast.from_pretrained(\"roberta-base\", max_len=512)\n",
    "tokenizer.save_pretrained(dataset_path/'roberta-base')"
   ]
  },
  {
   "cell_type": "code",
   "execution_count": null,
   "metadata": {},
   "outputs": [],
   "source": [
    "# EsperBERTo"
   ]
  },
  {
   "cell_type": "code",
   "execution_count": null,
   "metadata": {},
   "outputs": [],
   "source": [
    "# load text tokenizer"
   ]
  },
  {
   "cell_type": "code",
   "execution_count": null,
   "metadata": {},
   "outputs": [],
   "source": []
  },
  {
   "cell_type": "code",
   "execution_count": 10,
   "metadata": {},
   "outputs": [],
   "source": [
    "# 2. Create a tokenizer\n",
    "# load our tokenizer\n",
    "text_tokenizer = TextTokenizer(dataset_path)\n",
    "text_tokenizer.load_vocab(dataset_path/'pan_tadeusz'/'vocab.json')"
   ]
  },
  {
   "cell_type": "code",
   "execution_count": null,
   "metadata": {},
   "outputs": [],
   "source": [
    "# create tokenizer 1"
   ]
  },
  {
   "cell_type": "code",
   "execution_count": 11,
   "metadata": {},
   "outputs": [],
   "source": [
    "tokenizer1_path = dataset_path / 'tokenizer1'"
   ]
  },
  {
   "cell_type": "code",
   "execution_count": 14,
   "metadata": {},
   "outputs": [],
   "source": [
    "# Create transformers compatible tokenizer\n",
    "tokenizer1 = Tokenizer(WordLevel(text_tokenizer.vocab))\n",
    "tokenizer1.pre_tokenizer = CharDelimiterSplit(' ')\n",
    "# tokenizer1.model.unk_token = '<unk>'\n",
    "\n",
    "tokenizer1_path.mkdir(parents=True, exist_ok=True)\n",
    "tokenizer1.save(str(tokenizer1_path/\"tokenizer1.json\"))"
   ]
  },
  {
   "cell_type": "code",
   "execution_count": 15,
   "metadata": {},
   "outputs": [
    {
     "data": {
      "text/plain": [
       "<tokenizers.Tokenizer at 0x55660d3754f0>"
      ]
     },
     "execution_count": 15,
     "metadata": {},
     "output_type": "execute_result"
    }
   ],
   "source": [
    "tokenizer1"
   ]
  },
  {
   "cell_type": "code",
   "execution_count": 16,
   "metadata": {},
   "outputs": [],
   "source": [
    "# create tokenizer 2"
   ]
  },
  {
   "cell_type": "code",
   "execution_count": null,
   "metadata": {},
   "outputs": [],
   "source": [
    "# Re-create as roberta compatible tokenizer\n",
    "\n",
    "# tokenizer2 = PreTrainedTokenizerFast(tokenizer_file=str(tokenizer1_path/\"tokenizer1.json\"))\n",
    "tokenizer2 = RobertaTokenizerFast(vocab_file=str(tokenizer1_path/\"tokenizer1.json\"), merges_file=None)\n",
    "tokenizer2._tokenizer.post_processor = BertProcessing(\n",
    "    (\"</s>\", tokenizer2._tokenizer.token_to_id(\"</s>\")),\n",
    "    (\"<s>\", tokenizer2._tokenizer.token_to_id(\"<s>\")),\n",
    ")\n",
    "tokenizer2._tokenizer.enable_truncation(max_length=128)  # 512\n",
    "tokenizer2.mask_token = \"<mask>\"\n",
    "tokenizer2.pad_token = \"<pad>\""
   ]
  },
  {
   "cell_type": "code",
   "execution_count": 18,
   "metadata": {},
   "outputs": [
    {
     "data": {
      "text/plain": [
       "PreTrainedTokenizerFast(name_or_path='', vocab_size=6473, model_max_len=1000000000000000019884624838656, is_fast=True, padding_side='right', special_tokens={'pad_token': '<pad>', 'mask_token': '<mask>'})"
      ]
     },
     "execution_count": 18,
     "metadata": {},
     "output_type": "execute_result"
    }
   ],
   "source": [
    "tokenizer2"
   ]
  },
  {
   "cell_type": "code",
   "execution_count": null,
   "metadata": {},
   "outputs": [],
   "source": [
    "tokenizer2.save_pretrained('tokenizer2')"
   ]
  },
  {
   "cell_type": "code",
   "execution_count": 25,
   "metadata": {},
   "outputs": [],
   "source": [
    "# load my-roberta"
   ]
  },
  {
   "cell_type": "code",
   "execution_count": 29,
   "metadata": {},
   "outputs": [],
   "source": [
    "tokenizer = RobertaTokenizerFast.from_pretrained(dataset_path/\"my-roberta\", max_len=512)"
   ]
  },
  {
   "cell_type": "code",
   "execution_count": 30,
   "metadata": {},
   "outputs": [
    {
     "data": {
      "text/plain": [
       "PreTrainedTokenizerFast(name_or_path='/workspace/notebooks/data/my-roberta', vocab_size=6473, model_max_len=512, is_fast=True, padding_side='right', special_tokens={'bos_token': '<s>', 'eos_token': '</s>', 'unk_token': '<unk>', 'sep_token': '</s>', 'pad_token': '<pad>', 'cls_token': '<s>', 'mask_token': AddedToken(\"<mask>\", rstrip=False, lstrip=True, single_word=False, normalized=False)})"
      ]
     },
     "execution_count": 30,
     "metadata": {},
     "output_type": "execute_result"
    }
   ],
   "source": [
    "tokenizer"
   ]
  },
  {
   "cell_type": "code",
   "execution_count": 31,
   "metadata": {},
   "outputs": [
    {
     "data": {
      "text/plain": [
       "('/workspace/notebooks/data/my-roberta2/tokenizer_config.json',\n",
       " '/workspace/notebooks/data/my-roberta2/special_tokens_map.json',\n",
       " '/workspace/notebooks/data/my-roberta2/vocab.json',\n",
       " '/workspace/notebooks/data/my-roberta2/merges.txt',\n",
       " '/workspace/notebooks/data/my-roberta2/added_tokens.json')"
      ]
     },
     "execution_count": 31,
     "metadata": {},
     "output_type": "execute_result"
    }
   ],
   "source": [
    "tokenizer.save_pretrained(dataset_path/'my-roberta2')"
   ]
  },
  {
   "cell_type": "code",
   "execution_count": null,
   "metadata": {},
   "outputs": [],
   "source": []
  }
 ],
 "metadata": {
  "kernelspec": {
   "display_name": "Python 3",
   "language": "python",
   "name": "python3"
  },
  "language_info": {
   "codemirror_mode": {
    "name": "ipython",
    "version": 3
   },
   "file_extension": ".py",
   "mimetype": "text/x-python",
   "name": "python",
   "nbconvert_exporter": "python",
   "pygments_lexer": "ipython3",
   "version": "3.8.5"
  }
 },
 "nbformat": 4,
 "nbformat_minor": 4
}
