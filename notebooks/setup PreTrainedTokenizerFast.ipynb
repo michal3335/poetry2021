{
 "cells": [
  {
   "cell_type": "markdown",
   "metadata": {},
   "source": [
    "# setup PreTrainedTokenizerFast"
   ]
  },
  {
   "cell_type": "code",
   "execution_count": 3,
   "metadata": {},
   "outputs": [],
   "source": [
    "import sys\n",
    "sys.path.append(\"/workspace\")"
   ]
  },
  {
   "cell_type": "code",
   "execution_count": 46,
   "metadata": {},
   "outputs": [],
   "source": [
    "import json"
   ]
  },
  {
   "cell_type": "code",
   "execution_count": 17,
   "metadata": {},
   "outputs": [],
   "source": [
    "from pathlib import Path\n",
    "import os\n",
    "from preprocessing.text_tokenizer import TextTokenizer\n",
    "from tokenizers import Tokenizer\n",
    "from tokenizers.models import WordLevel\n",
    "from tokenizers.pre_tokenizers import CharDelimiterSplit\n",
    "from tokenizers.processors import BertProcessing\n",
    "# https://github.com/huggingface/transformers/issues/7234#issuecomment-720092292\n",
    "from transformers import PreTrainedTokenizer, PreTrainedTokenizerFast, RobertaConfig, RobertaForMaskedLM"
   ]
  },
  {
   "cell_type": "code",
   "execution_count": 18,
   "metadata": {},
   "outputs": [],
   "source": [
    "dataset_path = Path('/workspace/notebooks/data')"
   ]
  },
  {
   "cell_type": "code",
   "execution_count": 29,
   "metadata": {},
   "outputs": [],
   "source": [
    "# 2. Create a tokenizer\n",
    "# load our tokenizer\n",
    "text_tokenizer = TextTokenizer(dataset_path)\n",
    "text_tokenizer.load_vocab(dataset_path/'pan_tadeusz'/'vocab.json')\n",
    "\n",
    "# Create transformers compatible tokenizer\n",
    "tokenizer = Tokenizer(WordLevel(text_tokenizer.vocab))\n",
    "tokenizer.pre_tokenizer = CharDelimiterSplit(' ')\n",
    "# tokenizer.model.unk_token = '<unk>'\n",
    "\n",
    "tokenizer.post_processor = BertProcessing(\n",
    "    (\"</s>\", tokenizer.token_to_id(\"</s>\")),\n",
    "    (\"<s>\", tokenizer.token_to_id(\"<s>\")),\n",
    ")\n",
    "\n",
    "tokenizer.enable_truncation(max_length=128)  # 512\n",
    "\n",
    "tokenizer_path = dataset_path / 'tokenizer1a'\n",
    "tokenizer_path.mkdir(parents=True, exist_ok=True)\n",
    "tokenizer.save(str(tokenizer_path/\"tokenizer1a.json\"))\n",
    "\n",
    "# # Re-create as roberta compatible tokenizer\n",
    "# tokenizer_path = dataset_path / 'tokenizer1'\n",
    "# print(tokenizer_path)\n",
    "\n",
    "tokenizer2 = PreTrainedTokenizerFast(tokenizer_file=str(tokenizer_path/\"tokenizer1a.json\"))\n",
    "# tokenizer2._tokenizer.post_processor = BertProcessing(\n",
    "#     (\"</s>\", tokenizer2._tokenizer.token_to_id(\"</s>\")),\n",
    "#     (\"<s>\", tokenizer2._tokenizer.token_to_id(\"<s>\")),\n",
    "# )\n",
    "# tokenizer2._tokenizer.enable_truncation(max_length=128)  # 512\n",
    "tokenizer2.mask_token = \"<mask>\"\n",
    "tokenizer2.pad_token = \"<pad>\""
   ]
  },
  {
   "cell_type": "code",
   "execution_count": 34,
   "metadata": {},
   "outputs": [
    {
     "data": {
      "text/plain": [
       "<tokenizers.Tokenizer at 0x5571369c7720>"
      ]
     },
     "execution_count": 34,
     "metadata": {},
     "output_type": "execute_result"
    }
   ],
   "source": [
    "tokenizer."
   ]
  },
  {
   "cell_type": "code",
   "execution_count": 30,
   "metadata": {},
   "outputs": [
    {
     "data": {
      "text/plain": [
       "PreTrainedTokenizerFast(name_or_path='', vocab_size=6473, model_max_len=1000000000000000019884624838656, is_fast=True, padding_side='right', special_tokens={'pad_token': '<pad>', 'mask_token': '<mask>'})"
      ]
     },
     "execution_count": 30,
     "metadata": {},
     "output_type": "execute_result"
    }
   ],
   "source": [
    "tokenizer2"
   ]
  },
  {
   "cell_type": "code",
   "execution_count": 15,
   "metadata": {},
   "outputs": [
    {
     "data": {
      "text/plain": [
       "<tokenizers.pre_tokenizers.CharDelimiterSplit at 0x7fc20984dab0>"
      ]
     },
     "execution_count": 15,
     "metadata": {},
     "output_type": "execute_result"
    }
   ],
   "source": [
    "tokenizer2.backend_tokenizer.pre_tokenizer"
   ]
  },
  {
   "cell_type": "code",
   "execution_count": 23,
   "metadata": {},
   "outputs": [],
   "source": [
    "tokenizer3 = PreTrainedTokenizer(tokenizer_file=str(tokenizer_path/\"tokenizer1.json\"))"
   ]
  },
  {
   "cell_type": "code",
   "execution_count": null,
   "metadata": {},
   "outputs": [],
   "source": [
    "from transformers.tokeniz"
   ]
  },
  {
   "cell_type": "code",
   "execution_count": 54,
   "metadata": {},
   "outputs": [
    {
     "name": "stderr",
     "output_type": "stream",
     "text": [
      "Using mask_token, but it is not set yet.\n"
     ]
    }
   ],
   "source": [
    "tokenizer2 = PreTrainedTokenizerFast(\n",
    "    tokenizer_file=str(tokenizer_path/\"tokenizer1a.json\"), \n",
    "#     special_tokens_map='notebooks/data/my-roberta2/special_tokens_map.json'\n",
    ")\n",
    "tokenizer2.mask_token"
   ]
  },
  {
   "cell_type": "raw",
   "metadata": {},
   "source": [
    "special_tokens_map = json.loads(Path('/workspace/notebooks/data/my-roberta2/special_tokens_map.json').read_text())"
   ]
  },
  {
   "cell_type": "code",
   "execution_count": 55,
   "metadata": {},
   "outputs": [],
   "source": [
    "special_tokens_map = {\n",
    "    \"bos_token\": \"<s>\",\n",
    "    \"eos_token\": \"</s>\",\n",
    "    \"unk_token\": \"<unk>\",\n",
    "    \"sep_token\": \"</s>\",\n",
    "    \"pad_token\": \"<pad>\",\n",
    "    \"cls_token\": \"<s>\",\n",
    "    \"mask_token\": \"<mask>\"\n",
    "}"
   ]
  },
  {
   "cell_type": "code",
   "execution_count": 56,
   "metadata": {},
   "outputs": [
    {
     "data": {
      "text/plain": [
       "0"
      ]
     },
     "execution_count": 56,
     "metadata": {},
     "output_type": "execute_result"
    }
   ],
   "source": [
    "tokenizer2.add_special_tokens(special_tokens_map)"
   ]
  },
  {
   "cell_type": "code",
   "execution_count": 57,
   "metadata": {},
   "outputs": [
    {
     "data": {
      "text/plain": [
       "'<mask>'"
      ]
     },
     "execution_count": 57,
     "metadata": {},
     "output_type": "execute_result"
    }
   ],
   "source": [
    "tokenizer2.mask_token"
   ]
  },
  {
   "cell_type": "code",
   "execution_count": 62,
   "metadata": {},
   "outputs": [
    {
     "data": {
      "text/plain": [
       "4"
      ]
     },
     "execution_count": 62,
     "metadata": {},
     "output_type": "execute_result"
    }
   ],
   "source": [
    "tokenizer2.eos_token_id"
   ]
  },
  {
   "cell_type": "code",
   "execution_count": 71,
   "metadata": {},
   "outputs": [
    {
     "data": {
      "text/plain": [
       "('/workspace/notebooks/data/my-pretrained-tokenizer-fast1/tokenizer_config.json',\n",
       " '/workspace/notebooks/data/my-pretrained-tokenizer-fast1/special_tokens_map.json',\n",
       " '/workspace/notebooks/data/my-pretrained-tokenizer-fast1/tokenizer.json')"
      ]
     },
     "execution_count": 71,
     "metadata": {},
     "output_type": "execute_result"
    }
   ],
   "source": [
    "# (dataset_path/'my-pretrained-tokenizer-fast1').mkdir()\n",
    "tokenizer2.save_pretrained(save_directory=dataset_path/'my-pretrained-tokenizer-fast1', legacy_format=False)"
   ]
  },
  {
   "cell_type": "code",
   "execution_count": null,
   "metadata": {},
   "outputs": [],
   "source": [
    "tokenizer2.save_vocabulary"
   ]
  },
  {
   "cell_type": "code",
   "execution_count": null,
   "metadata": {},
   "outputs": [],
   "source": []
  },
  {
   "cell_type": "code",
   "execution_count": 79,
   "metadata": {},
   "outputs": [
    {
     "data": {
      "text/plain": [
       "'<mask>'"
      ]
     },
     "execution_count": 79,
     "metadata": {},
     "output_type": "execute_result"
    }
   ],
   "source": [
    "tokenizer3 = PreTrainedTokenizerFast.from_pretrained(\n",
    "    dataset_path/'my-pretrained-tokenizer-fast2'\n",
    ")\n",
    "tokenizer3.mask_token"
   ]
  },
  {
   "cell_type": "code",
   "execution_count": 80,
   "metadata": {},
   "outputs": [
    {
     "data": {
      "text/plain": [
       "str"
      ]
     },
     "execution_count": 80,
     "metadata": {},
     "output_type": "execute_result"
    }
   ],
   "source": [
    "type(tokenizer3.mask_token)"
   ]
  },
  {
   "cell_type": "code",
   "execution_count": 81,
   "metadata": {},
   "outputs": [
    {
     "data": {
      "text/plain": [
       "PreTrainedTokenizerFast(name_or_path='/workspace/notebooks/data/my-pretrained-tokenizer-fast2', vocab_size=6473, model_max_len=512, is_fast=True, padding_side='right', special_tokens={'bos_token': '<s>', 'eos_token': '</s>', 'unk_token': '<unk>', 'sep_token': '</s>', 'pad_token': '<pad>', 'cls_token': '<s>', 'mask_token': AddedToken(\"<mask>\", rstrip=False, lstrip=True, single_word=False, normalized=False)})"
      ]
     },
     "execution_count": 81,
     "metadata": {},
     "output_type": "execute_result"
    }
   ],
   "source": [
    "tokenizer3"
   ]
  },
  {
   "cell_type": "code",
   "execution_count": 82,
   "metadata": {},
   "outputs": [
    {
     "data": {
      "text/plain": [
       "{'input_ids': [3, 6, 4858, 3492, 8, 4], 'token_type_ids': [0, 0, 0, 0, 0, 0], 'attention_mask': [1, 1, 1, 1, 1, 1]}"
      ]
     },
     "execution_count": 82,
     "metadata": {},
     "output_type": "execute_result"
    }
   ],
   "source": [
    "tokenizer3(\"_cap_ lit++ --wo !\")"
   ]
  },
  {
   "cell_type": "code",
   "execution_count": null,
   "metadata": {},
   "outputs": [],
   "source": []
  }
 ],
 "metadata": {
  "kernelspec": {
   "display_name": "Python 3",
   "language": "python",
   "name": "python3"
  },
  "language_info": {
   "codemirror_mode": {
    "name": "ipython",
    "version": 3
   },
   "file_extension": ".py",
   "mimetype": "text/x-python",
   "name": "python",
   "nbconvert_exporter": "python",
   "pygments_lexer": "ipython3",
   "version": "3.8.5"
  }
 },
 "nbformat": 4,
 "nbformat_minor": 4
}
